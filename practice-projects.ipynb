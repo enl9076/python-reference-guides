{
 "cells": [
  {
   "cell_type": "markdown",
   "metadata": {},
   "source": [
    "# Micro Projects"
   ]
  },
  {
   "cell_type": "markdown",
   "metadata": {},
   "source": [
    "## Bulk File Renaming"
   ]
  },
  {
   "cell_type": "markdown",
   "metadata": {},
   "source": [
    "### Micro Project #1: General Purpose Renaming Function\n",
    "\n",
    "#### Define the renaming function\n",
    "\n",
    "The function takes three arguments: the prefix the new filenames should have, the extension of the files to be renamed, and the directory in which the files are located."
   ]
  },
  {
   "cell_type": "code",
   "execution_count": null,
   "metadata": {},
   "outputs": [],
   "source": [
    "import os\n",
    "def rename_files(prefix, ext, path):\n",
    "    i =0 \n",
    "    file_list = os.listdir(path)\n",
    "    for filename in file_list:\n",
    "        new = prefix + str(i) + ext\n",
    "        source = path + filename\n",
    "        new = path + new\n",
    "        os.rename(source, new)\n",
    "        i += 1\n"
   ]
  },
  {
   "cell_type": "markdown",
   "metadata": {},
   "source": [
    "#### Using the function above"
   ]
  },
  {
   "cell_type": "code",
   "execution_count": null,
   "metadata": {},
   "outputs": [],
   "source": [
    "rename_files(\"image\", \".png\", os.getcwd())"
   ]
  },
  {
   "cell_type": "markdown",
   "metadata": {},
   "source": [
    "### Micro Project #2: XML-specific Function\n",
    "\n",
    "#### Define the XML-specific function for individualized names \n",
    "I created this one for a very specific use-case where I had a bunch of XML files that I had to analyze and one of the first cleaning steps wanted to do was rename them so that they actually had helpful and informative names as this would help me in later data cleaning steps."
   ]
  },
  {
   "cell_type": "code",
   "execution_count": null,
   "metadata": {},
   "outputs": [],
   "source": [
    "import os\n",
    "import xml.etree.ElementTree as ET\n",
    "\n",
    "pathname = os.getcwd() # Directory of files to be renamed\n",
    "# If wd is not the same as 'pathname' then change the pathname above to the correct directory\n",
    "\n",
    "last_name = ''\n",
    "location = ''\n",
    "i = 0\n",
    "\n",
    "file_list = os.listdir(pathname)\n",
    "\n",
    "for filename in file_list:\n",
    "    tree = ET.parse(pathname + filename)\n",
    "    root = tree.getroot()\n",
    "    for elem in root.iter():\n",
    "        if 'PersonSurName' in elem.tag:\n",
    "            last_name = elem.text\n",
    "        if 'LocationState' in elem.tag:\n",
    "            location = elem.text\n",
    "    new = str(last_name) + \"-\" + str(location) + \".xml\"\n",
    "    source = pathname + filename\n",
    "    new = pathname + new\n",
    "    try:\n",
    "        os.rename(source, new)\n",
    "    except FileExistsError:\n",
    "        new = str(last_name) + \"-\" + str(location) + str(i) + \".xml\"\n",
    "        os.rename(source, new)\n",
    "        \n",
    "    i += 1"
   ]
  },
  {
   "cell_type": "markdown",
   "metadata": {},
   "source": [
    "## Web Scraping\n"
   ]
  },
  {
   "cell_type": "markdown",
   "metadata": {},
   "source": [
    "### Micro Project #3: Automated Google Scholar Search"
   ]
  },
  {
   "cell_type": "code",
   "execution_count": 16,
   "metadata": {},
   "outputs": [],
   "source": [
    "import requests, json\n",
    "import pandas as pd\n",
    "from plyer import notification\n",
    "from secrets import keys\n",
    "\n",
    "\n",
    "searchTerms = 'sadism psychopathy'\n",
    "key = keys[\"serpApiKEY\"]\n",
    "yr_low = ''\n",
    "yr_high = ''\n",
    "last_year = '1' # Options: 0 = sorted by relevance, 1 = abstracts only, 2 = everything\n",
    "num = '20'\n",
    "lang = 'lang_en'\n",
    "\n",
    "url = 'https://serpapi.com/search?engine=google_scholar'\n",
    "\n",
    "params = {'engine' : 'google_scholar',\n",
    "          'q' : searchTerms,\n",
    "          'api_key': key,\n",
    "          'as_ylo' : yr_low,\n",
    "          'as_yhi' : yr_high,\n",
    "          'scisbd' : last_year,\n",
    "          'num' : num,\n",
    "          'lr' : lang}\n",
    "\n",
    "response = requests.request(\"GET\", url, params = params)\n",
    "\n",
    "scholar_results =json.loads(response.text)\n"
   ]
  },
  {
   "cell_type": "code",
   "execution_count": 73,
   "metadata": {},
   "outputs": [
    {
     "data": {
      "text/plain": [
       "dict_keys(['search_metadata', 'search_parameters', 'search_information', 'organic_results', 'pagination', 'serpapi_pagination'])"
      ]
     },
     "execution_count": 73,
     "metadata": {},
     "output_type": "execute_result"
    }
   ],
   "source": [
    "scholar_results.keys()"
   ]
  },
  {
   "cell_type": "code",
   "execution_count": null,
   "metadata": {},
   "outputs": [],
   "source": [
    "titles = []\n",
    "links = []\n",
    "summaries = []\n",
    "\n",
    "for i in scholar_results['organic_results']:\n",
    "    titles.append(i['title'])\n",
    "    links.append(i['link'])\n",
    "    summaries.append(i['snippet'])\n",
    "    for i in summaries:\n",
    "        i.strip('\\W')\n",
    "\n",
    "df = pd.DataFrame({'Title': titles, 'Link': links, 'Summary' : summaries})\n",
    "df"
   ]
  },
  {
   "cell_type": "markdown",
   "metadata": {},
   "source": [
    "### Micro Project #4: Weather Updates"
   ]
  },
  {
   "cell_type": "code",
   "execution_count": null,
   "metadata": {},
   "outputs": [],
   "source": [
    "import pandas as pd\n",
    "import requests, json, datetime\n",
    "from plyer import notification\n",
    "from secrets import keys\n",
    "\n",
    "lat=38.3357\n",
    "lon=-77.4342\n",
    "part=\"minutely\"\n",
    "APIkey= keys[\"openWeatherKEY\"]\n",
    "\n",
    "url = f'https://api.openweathermap.org/data/2.5/onecall?lat={lat}&lon={lon}&exclude={part}&appid={APIkey}'\n",
    "\n",
    "querystring = {\"units\":\"imperial\"}\n",
    "\n",
    "response = requests.request(\"GET\", url, params = querystring)\n",
    "\n",
    "weather_dict = json.loads(response.text)\n",
    "\n",
    "def get_alerts():\n",
    "    if 'alerts' not in weather_dict.keys():\n",
    "        alerts = \"No weather alerts\"\n",
    "    else:\n",
    "        alerts = []\n",
    "        for i in weather_dict['alerts']:\n",
    "            alerts.append(i['event'])\n",
    "    for i in alerts:\n",
    "        return i\n",
    "    \n",
    "sunset = datetime.datetime.fromtimestamp(weather_dict['current']['sunset'])\n",
    "sunset = sunset.time()\n",
    "alert_start = datetime.datetime.fromtimestamp(weather_dict['alerts'][0]['start'])\n",
    "alert_end = datetime.datetime.fromtimestamp(weather_dict['alerts'][0]['end'])\n",
    "desc = weather_dict['current']['weather'][0]['description']\n",
    "temp = weather_dict['current']['temp']\n",
    "alerts = get_alerts()\n"
   ]
  },
  {
   "cell_type": "code",
   "execution_count": 6,
   "metadata": {},
   "outputs": [
    {
     "data": {
      "text/plain": [
       "dict_keys(['lat', 'lon', 'timezone', 'timezone_offset', 'current', 'hourly', 'daily'])"
      ]
     },
     "execution_count": 6,
     "metadata": {},
     "output_type": "execute_result"
    }
   ],
   "source": [
    "weather_dict.keys()"
   ]
  },
  {
   "cell_type": "markdown",
   "metadata": {},
   "source": [
    "#### Create a notification for weather updates"
   ]
  },
  {
   "cell_type": "code",
   "execution_count": 34,
   "metadata": {},
   "outputs": [],
   "source": [
    "notification.notify(title = \"Weather Update\", \n",
    "                    message = f\"It is currently {temp} deg F and {desc}\\nThe sun will set at approximately {sunset}\\n{alerts} from {alert_start} until {alert_end}\", \n",
    "                    timeout=15)"
   ]
  }
 ],
 "metadata": {
  "interpreter": {
   "hash": "4b4b638602aa57b6ed9a06a47ea6c485d55d9a954cf88c5085a1d03239d61f45"
  },
  "kernelspec": {
   "display_name": "Python 3.10.0 64-bit",
   "name": "python3"
  },
  "language_info": {
   "codemirror_mode": {
    "name": "ipython",
    "version": 3
   },
   "file_extension": ".py",
   "mimetype": "text/x-python",
   "name": "python",
   "nbconvert_exporter": "python",
   "pygments_lexer": "ipython3",
   "version": "3.10.0"
  }
 },
 "nbformat": 4,
 "nbformat_minor": 5
}
